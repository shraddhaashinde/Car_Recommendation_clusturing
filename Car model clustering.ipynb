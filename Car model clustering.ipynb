{
 "cells": [
  {
   "cell_type": "code",
   "execution_count": 6,
   "id": "d670ecec",
   "metadata": {},
   "outputs": [],
   "source": [
    "import pandas as pd\n",
    "A=pd.read_csv(\"C:/Users/LENOVO/Downloads/Cars93.csv\")"
   ]
  },
  {
   "cell_type": "code",
   "execution_count": 7,
   "id": "17d57ccd",
   "metadata": {},
   "outputs": [
    {
     "data": {
      "text/html": [
       "<div>\n",
       "<style scoped>\n",
       "    .dataframe tbody tr th:only-of-type {\n",
       "        vertical-align: middle;\n",
       "    }\n",
       "\n",
       "    .dataframe tbody tr th {\n",
       "        vertical-align: top;\n",
       "    }\n",
       "\n",
       "    .dataframe thead th {\n",
       "        text-align: right;\n",
       "    }\n",
       "</style>\n",
       "<table border=\"1\" class=\"dataframe\">\n",
       "  <thead>\n",
       "    <tr style=\"text-align: right;\">\n",
       "      <th></th>\n",
       "      <th>id</th>\n",
       "      <th>Manufacturer</th>\n",
       "      <th>Model</th>\n",
       "      <th>Type</th>\n",
       "      <th>Min.Price</th>\n",
       "      <th>Price</th>\n",
       "      <th>Max.Price</th>\n",
       "      <th>MPG.city</th>\n",
       "      <th>MPG.highway</th>\n",
       "      <th>AirBags</th>\n",
       "      <th>...</th>\n",
       "      <th>Passengers</th>\n",
       "      <th>Length</th>\n",
       "      <th>Wheelbase</th>\n",
       "      <th>Width</th>\n",
       "      <th>Turn.circle</th>\n",
       "      <th>Rear.seat.room</th>\n",
       "      <th>Luggage.room</th>\n",
       "      <th>Weight</th>\n",
       "      <th>Origin</th>\n",
       "      <th>Make</th>\n",
       "    </tr>\n",
       "  </thead>\n",
       "  <tbody>\n",
       "    <tr>\n",
       "      <th>0</th>\n",
       "      <td>1</td>\n",
       "      <td>Acura</td>\n",
       "      <td>Integra</td>\n",
       "      <td>Small</td>\n",
       "      <td>12.9</td>\n",
       "      <td>15.9</td>\n",
       "      <td>18.8</td>\n",
       "      <td>25</td>\n",
       "      <td>31</td>\n",
       "      <td>None</td>\n",
       "      <td>...</td>\n",
       "      <td>5</td>\n",
       "      <td>177</td>\n",
       "      <td>102</td>\n",
       "      <td>68</td>\n",
       "      <td>37</td>\n",
       "      <td>26.5</td>\n",
       "      <td>11.0</td>\n",
       "      <td>2705</td>\n",
       "      <td>non-USA</td>\n",
       "      <td>Acura Integra</td>\n",
       "    </tr>\n",
       "    <tr>\n",
       "      <th>1</th>\n",
       "      <td>2</td>\n",
       "      <td>Acura</td>\n",
       "      <td>Legend</td>\n",
       "      <td>Midsize</td>\n",
       "      <td>29.2</td>\n",
       "      <td>33.9</td>\n",
       "      <td>38.7</td>\n",
       "      <td>18</td>\n",
       "      <td>25</td>\n",
       "      <td>Driver &amp; Passenger</td>\n",
       "      <td>...</td>\n",
       "      <td>5</td>\n",
       "      <td>195</td>\n",
       "      <td>115</td>\n",
       "      <td>71</td>\n",
       "      <td>38</td>\n",
       "      <td>30.0</td>\n",
       "      <td>15.0</td>\n",
       "      <td>3560</td>\n",
       "      <td>non-USA</td>\n",
       "      <td>Acura Legend</td>\n",
       "    </tr>\n",
       "    <tr>\n",
       "      <th>2</th>\n",
       "      <td>3</td>\n",
       "      <td>Audi</td>\n",
       "      <td>90</td>\n",
       "      <td>Compact</td>\n",
       "      <td>25.9</td>\n",
       "      <td>29.1</td>\n",
       "      <td>32.3</td>\n",
       "      <td>20</td>\n",
       "      <td>26</td>\n",
       "      <td>Driver only</td>\n",
       "      <td>...</td>\n",
       "      <td>5</td>\n",
       "      <td>180</td>\n",
       "      <td>102</td>\n",
       "      <td>67</td>\n",
       "      <td>37</td>\n",
       "      <td>28.0</td>\n",
       "      <td>14.0</td>\n",
       "      <td>3375</td>\n",
       "      <td>non-USA</td>\n",
       "      <td>Audi 90</td>\n",
       "    </tr>\n",
       "    <tr>\n",
       "      <th>3</th>\n",
       "      <td>4</td>\n",
       "      <td>Audi</td>\n",
       "      <td>100</td>\n",
       "      <td>Midsize</td>\n",
       "      <td>30.8</td>\n",
       "      <td>37.7</td>\n",
       "      <td>44.6</td>\n",
       "      <td>19</td>\n",
       "      <td>26</td>\n",
       "      <td>NaN</td>\n",
       "      <td>...</td>\n",
       "      <td>6</td>\n",
       "      <td>193</td>\n",
       "      <td>106</td>\n",
       "      <td>70</td>\n",
       "      <td>37</td>\n",
       "      <td>31.0</td>\n",
       "      <td>17.0</td>\n",
       "      <td>3405</td>\n",
       "      <td>non-USA</td>\n",
       "      <td>Audi 100</td>\n",
       "    </tr>\n",
       "    <tr>\n",
       "      <th>4</th>\n",
       "      <td>5</td>\n",
       "      <td>BMW</td>\n",
       "      <td>535i</td>\n",
       "      <td>Midsize</td>\n",
       "      <td>23.7</td>\n",
       "      <td>30.0</td>\n",
       "      <td>36.2</td>\n",
       "      <td>22</td>\n",
       "      <td>30</td>\n",
       "      <td>Driver only</td>\n",
       "      <td>...</td>\n",
       "      <td>4</td>\n",
       "      <td>186</td>\n",
       "      <td>109</td>\n",
       "      <td>69</td>\n",
       "      <td>39</td>\n",
       "      <td>27.0</td>\n",
       "      <td>13.0</td>\n",
       "      <td>3640</td>\n",
       "      <td>non-USA</td>\n",
       "      <td>BMW 535i</td>\n",
       "    </tr>\n",
       "  </tbody>\n",
       "</table>\n",
       "<p>5 rows × 28 columns</p>\n",
       "</div>"
      ],
      "text/plain": [
       "   id Manufacturer    Model     Type  Min.Price  Price  Max.Price  MPG.city  \\\n",
       "0   1        Acura  Integra    Small       12.9   15.9       18.8        25   \n",
       "1   2        Acura   Legend  Midsize       29.2   33.9       38.7        18   \n",
       "2   3         Audi       90  Compact       25.9   29.1       32.3        20   \n",
       "3   4         Audi      100  Midsize       30.8   37.7       44.6        19   \n",
       "4   5          BMW     535i  Midsize       23.7   30.0       36.2        22   \n",
       "\n",
       "   MPG.highway             AirBags  ... Passengers Length  Wheelbase  Width  \\\n",
       "0           31                None  ...          5    177        102     68   \n",
       "1           25  Driver & Passenger  ...          5    195        115     71   \n",
       "2           26         Driver only  ...          5    180        102     67   \n",
       "3           26                 NaN  ...          6    193        106     70   \n",
       "4           30         Driver only  ...          4    186        109     69   \n",
       "\n",
       "   Turn.circle  Rear.seat.room Luggage.room  Weight   Origin           Make  \n",
       "0           37            26.5         11.0    2705  non-USA  Acura Integra  \n",
       "1           38            30.0         15.0    3560  non-USA   Acura Legend  \n",
       "2           37            28.0         14.0    3375  non-USA        Audi 90  \n",
       "3           37            31.0         17.0    3405  non-USA       Audi 100  \n",
       "4           39            27.0         13.0    3640  non-USA       BMW 535i  \n",
       "\n",
       "[5 rows x 28 columns]"
      ]
     },
     "execution_count": 7,
     "metadata": {},
     "output_type": "execute_result"
    }
   ],
   "source": [
    "A.head(5)   "
   ]
  },
  {
   "cell_type": "code",
   "execution_count": 8,
   "id": "3ad24fa2",
   "metadata": {},
   "outputs": [],
   "source": [
    "B=A[[\"MPG.city\",\"Price\"]]"
   ]
  },
  {
   "cell_type": "code",
   "execution_count": 9,
   "id": "333b8a09",
   "metadata": {},
   "outputs": [
    {
     "data": {
      "text/html": [
       "<div>\n",
       "<style scoped>\n",
       "    .dataframe tbody tr th:only-of-type {\n",
       "        vertical-align: middle;\n",
       "    }\n",
       "\n",
       "    .dataframe tbody tr th {\n",
       "        vertical-align: top;\n",
       "    }\n",
       "\n",
       "    .dataframe thead th {\n",
       "        text-align: right;\n",
       "    }\n",
       "</style>\n",
       "<table border=\"1\" class=\"dataframe\">\n",
       "  <thead>\n",
       "    <tr style=\"text-align: right;\">\n",
       "      <th></th>\n",
       "      <th>MPG.city</th>\n",
       "      <th>Price</th>\n",
       "    </tr>\n",
       "  </thead>\n",
       "  <tbody>\n",
       "    <tr>\n",
       "      <th>count</th>\n",
       "      <td>93.000000</td>\n",
       "      <td>93.000000</td>\n",
       "    </tr>\n",
       "    <tr>\n",
       "      <th>mean</th>\n",
       "      <td>22.365591</td>\n",
       "      <td>19.509677</td>\n",
       "    </tr>\n",
       "    <tr>\n",
       "      <th>std</th>\n",
       "      <td>5.619812</td>\n",
       "      <td>9.659430</td>\n",
       "    </tr>\n",
       "    <tr>\n",
       "      <th>min</th>\n",
       "      <td>15.000000</td>\n",
       "      <td>7.400000</td>\n",
       "    </tr>\n",
       "    <tr>\n",
       "      <th>25%</th>\n",
       "      <td>18.000000</td>\n",
       "      <td>12.200000</td>\n",
       "    </tr>\n",
       "    <tr>\n",
       "      <th>50%</th>\n",
       "      <td>21.000000</td>\n",
       "      <td>17.700000</td>\n",
       "    </tr>\n",
       "    <tr>\n",
       "      <th>75%</th>\n",
       "      <td>25.000000</td>\n",
       "      <td>23.300000</td>\n",
       "    </tr>\n",
       "    <tr>\n",
       "      <th>max</th>\n",
       "      <td>46.000000</td>\n",
       "      <td>61.900000</td>\n",
       "    </tr>\n",
       "  </tbody>\n",
       "</table>\n",
       "</div>"
      ],
      "text/plain": [
       "        MPG.city      Price\n",
       "count  93.000000  93.000000\n",
       "mean   22.365591  19.509677\n",
       "std     5.619812   9.659430\n",
       "min    15.000000   7.400000\n",
       "25%    18.000000  12.200000\n",
       "50%    21.000000  17.700000\n",
       "75%    25.000000  23.300000\n",
       "max    46.000000  61.900000"
      ]
     },
     "execution_count": 9,
     "metadata": {},
     "output_type": "execute_result"
    }
   ],
   "source": [
    "B.describe()"
   ]
  },
  {
   "cell_type": "markdown",
   "id": "27603daa",
   "metadata": {},
   "source": [
    "# preprocessing"
   ]
  },
  {
   "cell_type": "code",
   "execution_count": 10,
   "id": "5f57b81c",
   "metadata": {},
   "outputs": [],
   "source": [
    "from sklearn.preprocessing import StandardScaler\n",
    "ss=StandardScaler()\n",
    "C=pd.DataFrame(ss.fit_transform(B),columns=B.columns)"
   ]
  },
  {
   "cell_type": "code",
   "execution_count": 11,
   "id": "9f898157",
   "metadata": {},
   "outputs": [
    {
     "data": {
      "text/plain": [
       "array([0, 1, 1, 1, 1, 0, 0, 1, 1, 1, 1, 0, 0, 0, 0, 0, 0, 0, 1, 0, 0, 1,\n",
       "       2, 0, 0, 0, 0, 1, 2, 0, 2, 0, 0, 0, 0, 0, 0, 0, 2, 2, 0, 2, 0, 2,\n",
       "       0, 2, 0, 1, 1, 1, 1, 1, 2, 2, 0, 0, 1, 1, 1, 0, 0, 2, 1, 2, 0, 0,\n",
       "       0, 0, 0, 0, 0, 0, 2, 0, 0, 0, 0, 1, 2, 2, 0, 0, 2, 2, 0, 0, 0, 0,\n",
       "       0, 0, 0, 0, 1])"
      ]
     },
     "execution_count": 11,
     "metadata": {},
     "output_type": "execute_result"
    }
   ],
   "source": [
    "from sklearn.cluster import KMeans\n",
    "km=KMeans(n_clusters=3)\n",
    "model=km.fit(C)\n",
    "model.labels_"
   ]
  },
  {
   "cell_type": "markdown",
   "id": "28e2aeca",
   "metadata": {},
   "source": [
    "# plot these clusters"
   ]
  },
  {
   "cell_type": "code",
   "execution_count": 12,
   "id": "a5bf1c43",
   "metadata": {},
   "outputs": [],
   "source": [
    "import matplotlib.pyplot as plt"
   ]
  },
  {
   "cell_type": "code",
   "execution_count": 13,
   "id": "84adba94",
   "metadata": {},
   "outputs": [
    {
     "data": {
      "text/plain": [
       "Text(0.5, 1.0, 'price vs mileage')"
      ]
     },
     "execution_count": 13,
     "metadata": {},
     "output_type": "execute_result"
    },
    {
     "data": {
      "image/png": "[encoded data removed]",
      "text/plain": [
       "<Figure size 432x288 with 1 Axes>"
      ]
     },
     "metadata": {
      "needs_background": "light"
     },
     "output_type": "display_data"
    }
   ],
   "source": [
    "plt.scatter(B[\"MPG.city\"],B[\"Price\"],c=model.labels_)\n",
    "plt.xlabel(\"mileage in city\")\n",
    "plt.ylabel(\"price of car\")\n",
    "plt.title(\"price vs mileage\")"
   ]
  },
  {
   "cell_type": "code",
   "execution_count": 14,
   "id": "e274e2fa",
   "metadata": {},
   "outputs": [
    {
     "data": {
      "text/plain": [
       "array([[-0.23437376, -0.28127091],\n",
       "       [-0.72410737,  1.46141368],\n",
       "       [ 1.68156148, -0.99779245]])"
      ]
     },
     "execution_count": 14,
     "metadata": {},
     "output_type": "execute_result"
    }
   ],
   "source": [
    "model.cluster_centers_"
   ]
  },
  {
   "cell_type": "code",
   "execution_count": 15,
   "id": "02ad0a34",
   "metadata": {},
   "outputs": [
    {
     "data": {
      "text/plain": [
       "55.24519288386834"
      ]
     },
     "execution_count": 15,
     "metadata": {},
     "output_type": "execute_result"
    }
   ],
   "source": [
    "model.inertia_"
   ]
  },
  {
   "cell_type": "code",
   "execution_count": 16,
   "id": "7f866c6f",
   "metadata": {},
   "outputs": [],
   "source": [
    "centers=ss.inverse_transform(model.cluster_centers_)\n",
    "Q=pd.DataFrame(centers,columns=[\"X\",\"Y\"])"
   ]
  },
  {
   "cell_type": "code",
   "execution_count": 17,
   "id": "acf45970",
   "metadata": {},
   "outputs": [
    {
     "data": {
      "text/html": [
       "<div>\n",
       "<style scoped>\n",
       "    .dataframe tbody tr th:only-of-type {\n",
       "        vertical-align: middle;\n",
       "    }\n",
       "\n",
       "    .dataframe tbody tr th {\n",
       "        vertical-align: top;\n",
       "    }\n",
       "\n",
       "    .dataframe thead th {\n",
       "        text-align: right;\n",
       "    }\n",
       "</style>\n",
       "<table border=\"1\" class=\"dataframe\">\n",
       "  <thead>\n",
       "    <tr style=\"text-align: right;\">\n",
       "      <th></th>\n",
       "      <th>X</th>\n",
       "      <th>Y</th>\n",
       "    </tr>\n",
       "  </thead>\n",
       "  <tbody>\n",
       "    <tr>\n",
       "      <th>0</th>\n",
       "      <td>21.055556</td>\n",
       "      <td>16.807407</td>\n",
       "    </tr>\n",
       "    <tr>\n",
       "      <th>1</th>\n",
       "      <td>18.318182</td>\n",
       "      <td>33.550000</td>\n",
       "    </tr>\n",
       "    <tr>\n",
       "      <th>2</th>\n",
       "      <td>31.764706</td>\n",
       "      <td>9.923529</td>\n",
       "    </tr>\n",
       "  </tbody>\n",
       "</table>\n",
       "</div>"
      ],
      "text/plain": [
       "           X          Y\n",
       "0  21.055556  16.807407\n",
       "1  18.318182  33.550000\n",
       "2  31.764706   9.923529"
      ]
     },
     "execution_count": 17,
     "metadata": {},
     "output_type": "execute_result"
    }
   ],
   "source": [
    "Q"
   ]
  },
  {
   "cell_type": "code",
   "execution_count": 18,
   "id": "2060ca6c",
   "metadata": {},
   "outputs": [
    {
     "data": {
      "text/plain": [
       "Text(0.5, 1.0, 'Price vs Mileage')"
      ]
     },
     "execution_count": 18,
     "metadata": {},
     "output_type": "execute_result"
    },
    {
     "data": {
      "image/png": "[encoded data removed]",
      "text/plain": [
       "<Figure size 432x288 with 1 Axes>"
      ]
     },
     "metadata": {
      "needs_background": "light"
     },
     "output_type": "display_data"
    }
   ],
   "source": [
    "plt.scatter(B[\"MPG.city\"],B[\"Price\"],c=model.labels_)\n",
    "plt.scatter(Q.X,Q.Y,s=100,c=\"red\")\n",
    "plt.xlabel(\"Mileage in City\")\n",
    "plt.ylabel(\"Price of the car\")\n",
    "plt.title(\"Price vs Mileage\")"
   ]
  },
  {
   "cell_type": "markdown",
   "id": "748aa25a",
   "metadata": {},
   "source": [
    "# Elbow curve to find best number of cluster"
   ]
  },
  {
   "cell_type": "code",
   "execution_count": 21,
   "id": "b5a82ddf",
   "metadata": {},
   "outputs": [
    {
     "name": "stderr",
     "output_type": "stream",
     "text": [
      "C:\\Users\\LENOVO\\anaconda3\\lib\\site-packages\\sklearn\\cluster\\_kmeans.py:881: UserWarning: KMeans is known to have a memory leak on Windows with MKL, when there are less chunks than available threads. You can avoid it by setting the environment variable OMP_NUM_THREADS=1.\n",
      "  warnings.warn(\n"
     ]
    }
   ],
   "source": [
    "K=[]\n",
    "WCSS=[]\n",
    "for i in range(1,20,1):\n",
    "    km=KMeans(n_clusters=i)\n",
    "    model=km.fit(C)\n",
    "    K.append(i)\n",
    "    WCSS.append(model.inertia_)"
   ]
  },
  {
   "cell_type": "code",
   "execution_count": 22,
   "id": "750d7677",
   "metadata": {},
   "outputs": [
    {
     "data": {
      "text/plain": [
       "[1, 2, 3, 4, 5, 6, 7, 8, 9, 10, 11, 12, 13, 14, 15, 16, 17, 18, 19]"
      ]
     },
     "execution_count": 22,
     "metadata": {},
     "output_type": "execute_result"
    }
   ],
   "source": [
    "K"
   ]
  },
  {
   "cell_type": "code",
   "execution_count": 23,
   "id": "1c8d0bc9",
   "metadata": {},
   "outputs": [
    {
     "data": {
      "text/plain": [
       "[186.0,\n",
       " 93.92806219538846,\n",
       " 55.24519288386834,\n",
       " 38.06526065774016,\n",
       " 25.743307121066692,\n",
       " 17.33210317456429,\n",
       " 13.937266751712855,\n",
       " 11.393038900507047,\n",
       " 9.883856951269683,\n",
       " 8.670187748642972,\n",
       " 7.842524323800964,\n",
       " 6.896361322160942,\n",
       " 6.177977692593396,\n",
       " 5.563373747951375,\n",
       " 4.744528203489537,\n",
       " 4.395923969896831,\n",
       " 3.9696322473887813,\n",
       " 3.6132971010462014,\n",
       " 3.4299114786065057]"
      ]
     },
     "execution_count": 23,
     "metadata": {},
     "output_type": "execute_result"
    }
   ],
   "source": [
    "WCSS"
   ]
  },
  {
   "cell_type": "code",
   "execution_count": 28,
   "id": "930bf031",
   "metadata": {},
   "outputs": [
    {
     "data": {
      "text/plain": [
       "([<matplotlib.axis.XTick at 0x1dcc1c1aa30>,\n",
       "  <matplotlib.axis.XTick at 0x1dcc1f5ed60>,\n",
       "  <matplotlib.axis.XTick at 0x1dcc1e58250>,\n",
       "  <matplotlib.axis.XTick at 0x1dcc1c744c0>,\n",
       "  <matplotlib.axis.XTick at 0x1dcc1c741f0>,\n",
       "  <matplotlib.axis.XTick at 0x1dcc1e5cf40>,\n",
       "  <matplotlib.axis.XTick at 0x1dcc1ea4400>,\n",
       "  <matplotlib.axis.XTick at 0x1dcc1ebba30>,\n",
       "  <matplotlib.axis.XTick at 0x1dcc1e62280>,\n",
       "  <matplotlib.axis.XTick at 0x1dcc1e5c940>,\n",
       "  <matplotlib.axis.XTick at 0x1dcc1e587f0>,\n",
       "  <matplotlib.axis.XTick at 0x1dcc1e62370>,\n",
       "  <matplotlib.axis.XTick at 0x1dcc1e4a940>,\n",
       "  <matplotlib.axis.XTick at 0x1dcc1b80610>,\n",
       "  <matplotlib.axis.XTick at 0x1dcc1ee02b0>,\n",
       "  <matplotlib.axis.XTick at 0x1dcc1ed7940>,\n",
       "  <matplotlib.axis.XTick at 0x1dcc1f4f0a0>,\n",
       "  <matplotlib.axis.XTick at 0x1dcc1edbbb0>,\n",
       "  <matplotlib.axis.XTick at 0x1dcc1f35cd0>,\n",
       "  <matplotlib.axis.XTick at 0x1dcc1e4aee0>],\n",
       " [Text(0, 0, ''),\n",
       "  Text(0, 0, ''),\n",
       "  Text(0, 0, ''),\n",
       "  Text(0, 0, ''),\n",
       "  Text(0, 0, ''),\n",
       "  Text(0, 0, ''),\n",
       "  Text(0, 0, ''),\n",
       "  Text(0, 0, ''),\n",
       "  Text(0, 0, ''),\n",
       "  Text(0, 0, ''),\n",
       "  Text(0, 0, ''),\n",
       "  Text(0, 0, ''),\n",
       "  Text(0, 0, ''),\n",
       "  Text(0, 0, ''),\n",
       "  Text(0, 0, ''),\n",
       "  Text(0, 0, ''),\n",
       "  Text(0, 0, ''),\n",
       "  Text(0, 0, ''),\n",
       "  Text(0, 0, ''),\n",
       "  Text(0, 0, '')])"
      ]
     },
     "execution_count": 28,
     "metadata": {},
     "output_type": "execute_result"
    },
    {
     "data": {
      "image/png": "[encoded data removed]",
      "text/plain": [
       "<Figure size 432x288 with 1 Axes>"
      ]
     },
     "metadata": {
      "needs_background": "light"
     },
     "output_type": "display_data"
    }
   ],
   "source": [
    "plt.scatter(K,WCSS,c=\"black\")\n",
    "plt.plot(K,WCSS,c=\"red\")\n",
    "plt.xlabel(\"Number of clusters\")\n",
    "plt.ylabel(\"WCSS\")\n",
    "plt.title(\"Elbow curve\")\n",
    "plt.xticks(range(0,20,1))"
   ]
  },
  {
   "cell_type": "markdown",
   "id": "20c40a54",
   "metadata": {},
   "source": [
    "# Get cars recommendation"
   ]
  },
  {
   "cell_type": "code",
   "execution_count": 30,
   "id": "51263985",
   "metadata": {},
   "outputs": [
    {
     "name": "stderr",
     "output_type": "stream",
     "text": [
      "<ipython-input-30-e1a2c08f314d>:3: SettingWithCopyWarning: \n",
      "A value is trying to be set on a copy of a slice from a DataFrame.\n",
      "Try using .loc[row_indexer,col_indexer] = value instead\n",
      "\n",
      "See the caveats in the documentation: https://pandas.pydata.org/pandas-docs/stable/user_guide/indexing.html#returning-a-view-versus-a-copy\n",
      "  B[\"Clusters\"]=model.labels_\n"
     ]
    }
   ],
   "source": [
    "km = KMeans(n_clusters=4)\n",
    "model = km.fit(C)\n",
    "B[\"Clusters\"]=model.labels_\n"
   ]
  },
  {
   "cell_type": "code",
   "execution_count": 31,
   "id": "0ceddfb4",
   "metadata": {},
   "outputs": [
    {
     "name": "stderr",
     "output_type": "stream",
     "text": [
      "<ipython-input-31-a1bc29534914>:1: SettingWithCopyWarning: \n",
      "A value is trying to be set on a copy of a slice from a DataFrame.\n",
      "Try using .loc[row_indexer,col_indexer] = value instead\n",
      "\n",
      "See the caveats in the documentation: https://pandas.pydata.org/pandas-docs/stable/user_guide/indexing.html#returning-a-view-versus-a-copy\n",
      "  B[\"Make\"]=A.Make\n"
     ]
    }
   ],
   "source": [
    "B[\"Make\"]=A.Make\n"
   ]
  },
  {
   "cell_type": "code",
   "execution_count": 32,
   "id": "b568ecb7",
   "metadata": {},
   "outputs": [
    {
     "data": {
      "text/html": [
       "<div>\n",
       "<style scoped>\n",
       "    .dataframe tbody tr th:only-of-type {\n",
       "        vertical-align: middle;\n",
       "    }\n",
       "\n",
       "    .dataframe tbody tr th {\n",
       "        vertical-align: top;\n",
       "    }\n",
       "\n",
       "    .dataframe thead th {\n",
       "        text-align: right;\n",
       "    }\n",
       "</style>\n",
       "<table border=\"1\" class=\"dataframe\">\n",
       "  <thead>\n",
       "    <tr style=\"text-align: right;\">\n",
       "      <th></th>\n",
       "      <th>MPG.city</th>\n",
       "      <th>Price</th>\n",
       "      <th>Clusters</th>\n",
       "      <th>Make</th>\n",
       "    </tr>\n",
       "  </thead>\n",
       "  <tbody>\n",
       "    <tr>\n",
       "      <th>0</th>\n",
       "      <td>25</td>\n",
       "      <td>15.9</td>\n",
       "      <td>0</td>\n",
       "      <td>Acura Integra</td>\n",
       "    </tr>\n",
       "    <tr>\n",
       "      <th>1</th>\n",
       "      <td>18</td>\n",
       "      <td>33.9</td>\n",
       "      <td>1</td>\n",
       "      <td>Acura Legend</td>\n",
       "    </tr>\n",
       "    <tr>\n",
       "      <th>2</th>\n",
       "      <td>20</td>\n",
       "      <td>29.1</td>\n",
       "      <td>3</td>\n",
       "      <td>Audi 90</td>\n",
       "    </tr>\n",
       "    <tr>\n",
       "      <th>3</th>\n",
       "      <td>19</td>\n",
       "      <td>37.7</td>\n",
       "      <td>1</td>\n",
       "      <td>Audi 100</td>\n",
       "    </tr>\n",
       "    <tr>\n",
       "      <th>4</th>\n",
       "      <td>22</td>\n",
       "      <td>30.0</td>\n",
       "      <td>3</td>\n",
       "      <td>BMW 535i</td>\n",
       "    </tr>\n",
       "    <tr>\n",
       "      <th>...</th>\n",
       "      <td>...</td>\n",
       "      <td>...</td>\n",
       "      <td>...</td>\n",
       "      <td>...</td>\n",
       "    </tr>\n",
       "    <tr>\n",
       "      <th>88</th>\n",
       "      <td>17</td>\n",
       "      <td>19.7</td>\n",
       "      <td>3</td>\n",
       "      <td>Volkswagen Eurovan</td>\n",
       "    </tr>\n",
       "    <tr>\n",
       "      <th>89</th>\n",
       "      <td>21</td>\n",
       "      <td>20.0</td>\n",
       "      <td>3</td>\n",
       "      <td>Volkswagen Passat</td>\n",
       "    </tr>\n",
       "    <tr>\n",
       "      <th>90</th>\n",
       "      <td>18</td>\n",
       "      <td>23.3</td>\n",
       "      <td>3</td>\n",
       "      <td>Volkswagen Corrado</td>\n",
       "    </tr>\n",
       "    <tr>\n",
       "      <th>91</th>\n",
       "      <td>21</td>\n",
       "      <td>22.7</td>\n",
       "      <td>3</td>\n",
       "      <td>Volvo 240</td>\n",
       "    </tr>\n",
       "    <tr>\n",
       "      <th>92</th>\n",
       "      <td>20</td>\n",
       "      <td>26.7</td>\n",
       "      <td>3</td>\n",
       "      <td>Volvo 850</td>\n",
       "    </tr>\n",
       "  </tbody>\n",
       "</table>\n",
       "<p>93 rows × 4 columns</p>\n",
       "</div>"
      ],
      "text/plain": [
       "    MPG.city  Price  Clusters                Make\n",
       "0         25   15.9         0       Acura Integra\n",
       "1         18   33.9         1        Acura Legend\n",
       "2         20   29.1         3             Audi 90\n",
       "3         19   37.7         1            Audi 100\n",
       "4         22   30.0         3            BMW 535i\n",
       "..       ...    ...       ...                 ...\n",
       "88        17   19.7         3  Volkswagen Eurovan\n",
       "89        21   20.0         3   Volkswagen Passat\n",
       "90        18   23.3         3  Volkswagen Corrado\n",
       "91        21   22.7         3           Volvo 240\n",
       "92        20   26.7         3           Volvo 850\n",
       "\n",
       "[93 rows x 4 columns]"
      ]
     },
     "execution_count": 32,
     "metadata": {},
     "output_type": "execute_result"
    }
   ],
   "source": [
    "B"
   ]
  },
  {
   "cell_type": "code",
   "execution_count": 33,
   "id": "ba20ce91",
   "metadata": {},
   "outputs": [
    {
     "name": "stdout",
     "output_type": "stream",
     "text": [
      "Enter a car Make to see similar cars: Chevrolet Corvette\n",
      "Entered Car:  Chevrolet Corvette\n",
      "Similar Cars:  ['Acura Legend', 'Audi 100', 'Cadillac DeVille', 'Cadillac Seville', 'Infiniti Q45', 'Lexus SC300', 'Lincoln Continental', 'Lincoln Town_Car', 'Mazda RX-7', 'Mercedes-Benz 190E', 'Mercedes-Benz 300E']\n"
     ]
    }
   ],
   "source": [
    "cm = input(\"Enter a car Make to see similar cars: \")\n",
    "\n",
    "cluster_number_of_given_car = list(B[B.Make==cm].Clusters)[0]\n",
    "\n",
    "W = list(B[B.Clusters == cluster_number_of_given_car].Make)\n",
    "W.remove(cm)\n",
    "\n",
    "print(\"Entered Car: \",cm)\n",
    "print(\"Similar Cars: \",W)\n"
   ]
  },
  {
   "cell_type": "code",
   "execution_count": null,
   "id": "0f63eaa3",
   "metadata": {},
   "outputs": [],
   "source": []
  }
 ],
 "metadata": {
  "kernelspec": {
   "display_name": "Python 3",
   "language": "python",
   "name": "python3"
  },
  "language_info": {
   "codemirror_mode": {
    "name": "ipython",
    "version": 3
   },
   "file_extension": ".py",
   "mimetype": "text/x-python",
   "name": "python",
   "nbconvert_exporter": "python",
   "pygments_lexer": "ipython3",
   "version": "3.8.8"
  }
 },
 "nbformat": 4,
 "nbformat_minor": 5
}
